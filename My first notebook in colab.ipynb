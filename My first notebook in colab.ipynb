{
  "nbformat": 4,
  "nbformat_minor": 0,
  "metadata": {
    "colab": {
      "name": "Untitled0.ipynb",
      "provenance": [],
      "authorship_tag": "ABX9TyPRugvcrCXTsG/g4/Ix5cT0",
      "include_colab_link": true
    },
    "kernelspec": {
      "name": "python3",
      "display_name": "Python 3"
    },
    "language_info": {
      "name": "python"
    }
  },
  "cells": [
    {
      "cell_type": "markdown",
      "metadata": {
        "id": "view-in-github",
        "colab_type": "text"
      },
      "source": [
        "<a href=\"https://colab.research.google.com/github/hymachandhininamana/Basic-ML/blob/main/My%20first%20notebook%20in%20colab.ipynb\" target=\"_parent\"><img src=\"https://colab.research.google.com/assets/colab-badge.svg\" alt=\"Open In Colab\"/></a>"
      ]
    },
    {
      "cell_type": "markdown",
      "metadata": {
        "id": "gmtejUDv0YBT"
      },
      "source": [
        "                                               *   EVEN OR ODD"
      ]
    },
    {
      "cell_type": "code",
      "metadata": {
        "colab": {
          "base_uri": "https://localhost:8080/"
        },
        "id": "GOBjepb50hk3",
        "outputId": "8d59f7ab-ed46-453d-ea5f-9440a9df7125"
      },
      "source": [
        "n=int(input())\n",
        "if(n%2==0):\n",
        "  print(\"even\")\n",
        "else:\n",
        "  print(\"odd\")\n",
        "  "
      ],
      "execution_count": 1,
      "outputs": [
        {
          "output_type": "stream",
          "text": [
            "8\n",
            "even\n"
          ],
          "name": "stdout"
        }
      ]
    },
    {
      "cell_type": "markdown",
      "metadata": {
        "id": "ris5bXYD06eb"
      },
      "source": [
        "Explanation:"
      ]
    },
    {
      "cell_type": "markdown",
      "metadata": {
        "id": "4OAahizm0_sE"
      },
      "source": [
        "1. This program is used to find whether the given number is even or odd.\n",
        "2. First let us consider an input n. \n",
        "3. Here 'int' represents the input that is an integer.\n",
        "4. The condition for an integer to be an even number is \"it must be divisible by\n",
        "   2\" and the condition for the odd number is \"it not divisible by 2\".\n",
        "5. So, I have taken the condition that is if the number is divisible by two then\n",
        "   the output will be even and if the number is not divisible by two then the \n",
        "   output will be odd.\n",
        "6. In this program I have used 'if-else' condition.\n",
        "7. \"print\" is used to give the output.\n",
        "8. Here I have given input as 8. Since 8 is even number the output printed is even."
      ]
    },
    {
      "cell_type": "markdown",
      "metadata": {
        "id": "MjN7H7_U4O_E"
      },
      "source": [
        "                                      * FACTORIAL OF A GIVEN NUMBER"
      ]
    },
    {
      "cell_type": "code",
      "metadata": {
        "colab": {
          "base_uri": "https://localhost:8080/"
        },
        "id": "ir6JFxyg4gkQ",
        "outputId": "370d41c4-9f46-4e93-f66f-ba55210171d5"
      },
      "source": [
        "n=int(input())\n",
        "factorial=1\n",
        "for i in range(1,n+1):\n",
        "  factorial=factorial*i\n",
        "print(factorial)\n"
      ],
      "execution_count": 4,
      "outputs": [
        {
          "output_type": "stream",
          "text": [
            "5\n",
            "120\n"
          ],
          "name": "stdout"
        }
      ]
    },
    {
      "cell_type": "markdown",
      "metadata": {
        "id": "PyI8HHkt5JHM"
      },
      "source": [
        "Explanation:\n",
        "1. This program is used to find factorial of the given number.\n",
        "2. I have used \"for loop\" in this program.\n",
        "3. I have taken the required input as 'n'. Since the input is an integer, 'int'\n",
        "   is used to represent it.\n",
        "4. I have given factorial value as 1 and 1 is stored in it.\n",
        "5. I have taken the range of i from 1 to (n+1).\n",
        "6. Each value of i is multiplied with the factorial which wil be stored in the \n",
        "   factorial. \n",
        "7. Now use the print which is used to print the factorial of the given number \n",
        "   after the loop is ended.\n",
        "8. Here I have given the input as 5. The factorial of Five is '120'.\n",
        "9. Hence the output printed is 120."
      ]
    },
    {
      "cell_type": "markdown",
      "metadata": {
        "id": "LEH4p9zQ8-G7"
      },
      "source": [
        "                               * SUM OF FIRST 'N' NATURAL NUMBERS"
      ]
    },
    {
      "cell_type": "code",
      "metadata": {
        "colab": {
          "base_uri": "https://localhost:8080/"
        },
        "id": "FKZg_DN69ONp",
        "outputId": "aea2a956-51dc-4fdd-bcfc-8d3ca1a31f42"
      },
      "source": [
        " n=int(input())\n",
        " sum=0\n",
        " for i in range (1,n+1):\n",
        "   sum=sum+i\n",
        "   i=i+1\n",
        " print(sum)  "
      ],
      "execution_count": 7,
      "outputs": [
        {
          "output_type": "stream",
          "text": [
            "7\n",
            "28\n"
          ],
          "name": "stdout"
        }
      ]
    },
    {
      "cell_type": "markdown",
      "metadata": {
        "id": "oLkcYrys966V"
      },
      "source": [
        "Explanation:\n",
        "\n",
        "1. This program is used to find the sum of 'n' natural nubers.\n",
        "2. \"For loop\" is used in this program.\n",
        "3. Here 'n' is the input and 'int' represents that input is an integer.\n",
        "4. Here for loop is runned in the range of i from 1 to (n+1).\n",
        "5. 'sum' value is assigned as zero.\n",
        "6. Every value of i is multiplied with the sum and is stored in sum\n",
        "7. \"print\" is used to print the output.\n",
        "8. Here I have given the input as 7.\n",
        "9. Since the sum of first 7 natural numbers is 28.\n",
        "10. So the output printed is 28."
      ]
    }
  ]
}